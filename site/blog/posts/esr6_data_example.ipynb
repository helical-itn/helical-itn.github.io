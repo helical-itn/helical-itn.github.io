{
 "cells": [
  {
   "cell_type": "markdown",
   "metadata": {},
   "source": [
    "---\n",
    "title: \"Registry Data usage (ESR6)\"\n",
    "subtitle: \"How do we link health registry data to environmental exposures?\"\n",
    "categories: [WP1, python, data, registry, health, environment, exposure]\n",
    "author:\n",
    "  - name: \"<b>ESR6</b>: Alejandro Fontal\"\n",
    "    orcid: 0000-0003-1689-0557\n",
    "    email: alejandro.fontal@isglobal.org\n",
    "format: \n",
    "    html: \n",
    "        number-sections: false\n",
    "        warning: false \n",
    "        smooth-scroll: true \n",
    "        toc: true \n",
    "        toc-location: right\n",
    "        code-tools:\n",
    "            source: true\n",
    "            toggle: true\n",
    "            \n",
    "comments:\n",
    "  giscus: \n",
    "    repo: helical-itn/helical-itn.github.io\n",
    "        \n",
    "---"
   ]
  },
  {
   "cell_type": "markdown",
   "metadata": {},
   "source": [
    "## Introduction"
   ]
  },
  {
   "cell_type": "markdown",
   "metadata": {},
   "source": [
    "I will use this blog post as a way to showcase the basic usage of registry data and linkage to environmental data typically done as part of my work as a member of HELICAL'S Work Package 1, whose main\n",
    "objective is to help understand the relationship between environmental exposures and vasculitis onset."
   ]
  },
  {
   "attachments": {},
   "cell_type": "markdown",
   "metadata": {},
   "source": [
    "\n",
    "\n",
    "I will try to display a simplified example of my usage of healthcare registries data. I make use of individual data just as a basis to aggregate and obtain incidence counts per *spatial unit* (zip-code, province, electoral district) and *time-unit* (daily, weekly, monthly) based on each patients' residence and date of onset/diagnosis information.\n",
    "\n",
    "To illustrate the linkage process I will generate an environmental and healthcare record toy dataset and perform the linkage as I usually would."
   ]
  },
  {
   "cell_type": "code",
   "execution_count": 1,
   "metadata": {
    "ExecuteTime": {
     "end_time": "2021-01-21T10:32:29.236097Z",
     "start_time": "2021-01-21T10:32:28.943959Z"
    }
   },
   "outputs": [],
   "source": [
    "#| code-fold: true\n",
    "#| code-summary: Show Python Imports\n",
    "\n",
    "import numpy as np\n",
    "import pandas as pd"
   ]
  },
  {
   "cell_type": "markdown",
   "metadata": {},
   "source": [
    "</details>"
   ]
  },
  {
   "cell_type": "markdown",
   "metadata": {},
   "source": [
    "## Environmental dataset"
   ]
  },
  {
   "attachments": {},
   "cell_type": "markdown",
   "metadata": {},
   "source": [
    "In general, I fetch different datasets of publicly available or self-generated daily observations of several environmental variables:\n",
    "\n",
    "+ Weather\n",
    "+ Pollution\n",
    "+ Biological air diversity\n",
    "+ Chemical composition (via LIDAR or inplace sampling).\n",
    "\n",
    "A toy example would be the following table, spanning only 5 days for two different regions, **A** and **B**:"
   ]
  },
  {
   "cell_type": "code",
   "execution_count": 6,
   "metadata": {
    "ExecuteTime": {
     "end_time": "2021-01-21T10:32:30.855613Z",
     "start_time": "2021-01-21T10:32:30.818967Z"
    }
   },
   "outputs": [
    {
     "data": {
      "text/html": [
       "<style type=\"text/css\">\n",
       "#T_4d33c th {\n",
       "  text-align: center;\n",
       "}\n",
       "</style>\n",
       "<table id=\"T_4d33c\" class='dataframe table-hover'>\n",
       "  <thead>\n",
       "    <tr>\n",
       "      <th id=\"T_4d33c_level0_col0\" class=\"col_heading level0 col0\" >Date</th>\n",
       "      <th id=\"T_4d33c_level0_col1\" class=\"col_heading level0 col1\" >Region</th>\n",
       "      <th id=\"T_4d33c_level0_col2\" class=\"col_heading level0 col2\" >Temperature</th>\n",
       "      <th id=\"T_4d33c_level0_col3\" class=\"col_heading level0 col3\" >NO₂</th>\n",
       "      <th id=\"T_4d33c_level0_col4\" class=\"col_heading level0 col4\" >Fungal Sp. 1</th>\n",
       "      <th id=\"T_4d33c_level0_col5\" class=\"col_heading level0 col5\" >Bacterial Sp. 2</th>\n",
       "    </tr>\n",
       "  </thead>\n",
       "  <tbody>\n",
       "    <tr>\n",
       "      <td id=\"T_4d33c_row0_col0\" class=\"data row0 col0\" >2021-01-01</td>\n",
       "      <td id=\"T_4d33c_row0_col1\" class=\"data row0 col1\" >A</td>\n",
       "      <td id=\"T_4d33c_row0_col2\" class=\"data row0 col2\" >21.21</td>\n",
       "      <td id=\"T_4d33c_row0_col3\" class=\"data row0 col3\" >6.15</td>\n",
       "      <td id=\"T_4d33c_row0_col4\" class=\"data row0 col4\" >959</td>\n",
       "      <td id=\"T_4d33c_row0_col5\" class=\"data row0 col5\" >723</td>\n",
       "    </tr>\n",
       "    <tr>\n",
       "      <td id=\"T_4d33c_row1_col0\" class=\"data row1 col0\" >2021-01-01</td>\n",
       "      <td id=\"T_4d33c_row1_col1\" class=\"data row1 col1\" >B</td>\n",
       "      <td id=\"T_4d33c_row1_col2\" class=\"data row1 col2\" >25.24</td>\n",
       "      <td id=\"T_4d33c_row1_col3\" class=\"data row1 col3\" >5.42</td>\n",
       "      <td id=\"T_4d33c_row1_col4\" class=\"data row1 col4\" >981</td>\n",
       "      <td id=\"T_4d33c_row1_col5\" class=\"data row1 col5\" >705</td>\n",
       "    </tr>\n",
       "    <tr>\n",
       "      <td id=\"T_4d33c_row2_col0\" class=\"data row2 col0\" >2021-01-02</td>\n",
       "      <td id=\"T_4d33c_row2_col1\" class=\"data row2 col1\" >A</td>\n",
       "      <td id=\"T_4d33c_row2_col2\" class=\"data row2 col2\" >19.03</td>\n",
       "      <td id=\"T_4d33c_row2_col3\" class=\"data row2 col3\" >5.26</td>\n",
       "      <td id=\"T_4d33c_row2_col4\" class=\"data row2 col4\" >1046</td>\n",
       "      <td id=\"T_4d33c_row2_col5\" class=\"data row2 col5\" >790</td>\n",
       "    </tr>\n",
       "    <tr>\n",
       "      <td id=\"T_4d33c_row3_col0\" class=\"data row3 col0\" >2021-01-02</td>\n",
       "      <td id=\"T_4d33c_row3_col1\" class=\"data row3 col1\" >B</td>\n",
       "      <td id=\"T_4d33c_row3_col2\" class=\"data row3 col2\" >24.04</td>\n",
       "      <td id=\"T_4d33c_row3_col3\" class=\"data row3 col3\" >5.68</td>\n",
       "      <td id=\"T_4d33c_row3_col4\" class=\"data row3 col4\" >1168</td>\n",
       "      <td id=\"T_4d33c_row3_col5\" class=\"data row3 col5\" >752</td>\n",
       "    </tr>\n",
       "    <tr>\n",
       "      <td id=\"T_4d33c_row4_col0\" class=\"data row4 col0\" >2021-01-03</td>\n",
       "      <td id=\"T_4d33c_row4_col1\" class=\"data row4 col1\" >A</td>\n",
       "      <td id=\"T_4d33c_row4_col2\" class=\"data row4 col2\" >21.56</td>\n",
       "      <td id=\"T_4d33c_row4_col3\" class=\"data row4 col3\" >5.70</td>\n",
       "      <td id=\"T_4d33c_row4_col4\" class=\"data row4 col4\" >1061</td>\n",
       "      <td id=\"T_4d33c_row4_col5\" class=\"data row4 col5\" >755</td>\n",
       "    </tr>\n",
       "    <tr>\n",
       "      <td id=\"T_4d33c_row5_col0\" class=\"data row5 col0\" >2021-01-03</td>\n",
       "      <td id=\"T_4d33c_row5_col1\" class=\"data row5 col1\" >B</td>\n",
       "      <td id=\"T_4d33c_row5_col2\" class=\"data row5 col2\" >13.82</td>\n",
       "      <td id=\"T_4d33c_row5_col3\" class=\"data row5 col3\" >6.04</td>\n",
       "      <td id=\"T_4d33c_row5_col4\" class=\"data row5 col4\" >964</td>\n",
       "      <td id=\"T_4d33c_row5_col5\" class=\"data row5 col5\" >759</td>\n",
       "    </tr>\n",
       "    <tr>\n",
       "      <td id=\"T_4d33c_row6_col0\" class=\"data row6 col0\" >2021-01-04</td>\n",
       "      <td id=\"T_4d33c_row6_col1\" class=\"data row6 col1\" >A</td>\n",
       "      <td id=\"T_4d33c_row6_col2\" class=\"data row6 col2\" >22.23</td>\n",
       "      <td id=\"T_4d33c_row6_col3\" class=\"data row6 col3\" >3.55</td>\n",
       "      <td id=\"T_4d33c_row6_col4\" class=\"data row6 col4\" >924</td>\n",
       "      <td id=\"T_4d33c_row6_col5\" class=\"data row6 col5\" >649</td>\n",
       "    </tr>\n",
       "    <tr>\n",
       "      <td id=\"T_4d33c_row7_col0\" class=\"data row7 col0\" >2021-01-04</td>\n",
       "      <td id=\"T_4d33c_row7_col1\" class=\"data row7 col1\" >B</td>\n",
       "      <td id=\"T_4d33c_row7_col2\" class=\"data row7 col2\" >26.51</td>\n",
       "      <td id=\"T_4d33c_row7_col3\" class=\"data row7 col3\" >4.06</td>\n",
       "      <td id=\"T_4d33c_row7_col4\" class=\"data row7 col4\" >996</td>\n",
       "      <td id=\"T_4d33c_row7_col5\" class=\"data row7 col5\" >804</td>\n",
       "    </tr>\n",
       "    <tr>\n",
       "      <td id=\"T_4d33c_row8_col0\" class=\"data row8 col0\" >2021-01-05</td>\n",
       "      <td id=\"T_4d33c_row8_col1\" class=\"data row8 col1\" >A</td>\n",
       "      <td id=\"T_4d33c_row8_col2\" class=\"data row8 col2\" >12.87</td>\n",
       "      <td id=\"T_4d33c_row8_col3\" class=\"data row8 col3\" >6.35</td>\n",
       "      <td id=\"T_4d33c_row8_col4\" class=\"data row8 col4\" >862</td>\n",
       "      <td id=\"T_4d33c_row8_col5\" class=\"data row8 col5\" >626</td>\n",
       "    </tr>\n",
       "    <tr>\n",
       "      <td id=\"T_4d33c_row9_col0\" class=\"data row9 col0\" >2021-01-05</td>\n",
       "      <td id=\"T_4d33c_row9_col1\" class=\"data row9 col1\" >B</td>\n",
       "      <td id=\"T_4d33c_row9_col2\" class=\"data row9 col2\" >24.84</td>\n",
       "      <td id=\"T_4d33c_row9_col3\" class=\"data row9 col3\" >4.01</td>\n",
       "      <td id=\"T_4d33c_row9_col4\" class=\"data row9 col4\" >939</td>\n",
       "      <td id=\"T_4d33c_row9_col5\" class=\"data row9 col5\" >650</td>\n",
       "    </tr>\n",
       "  </tbody>\n",
       "</table>\n"
      ],
      "text/plain": [
       "<pandas.io.formats.style.Styler at 0x11fdf30a0>"
      ]
     },
     "execution_count": 6,
     "metadata": {},
     "output_type": "execute_result"
    }
   ],
   "source": [
    "#| code-fold: true\n",
    "\n",
    "environment_df = pd.DataFrame({\n",
    "    'Date': np.repeat(pd.date_range('2021-01-01', '2021-01-05'), 2),\n",
    "    'Region': np.tile(['A', 'B'], 5),\n",
    "    'Temperature': np.random.normal(20, 5, 10).round(2),\n",
    "    'NO₂': np.random.normal(5, 1, 10).round(2),\n",
    "    'Fungal Sp. 1': np.random.normal(1000, 100, 10).astype(int),\n",
    "    'Bacterial Sp. 2': np.random.normal(750, 75, 10).astype(int)\n",
    "})\n",
    "\n",
    "\n",
    "# this is just for styling the table on the blog\n",
    "\n",
    "(environment_df.style\n",
    " .hide(axis='index')\n",
    " .format({'Temperature': '{:.2f}',\n",
    "          'NO₂': '{:.2f}',\n",
    "          'Date': '{:%Y-%m-%d}'})\n",
    " .set_table_attributes(\"class='dataframe table-hover', style='text-align: center'\")\n",
    ")"
   ]
  },
  {
   "cell_type": "markdown",
   "metadata": {},
   "source": [
    "## Healthcare records dataset"
   ]
  },
  {
   "cell_type": "markdown",
   "metadata": {},
   "source": [
    "The minimal example of a healthcare records dataset that I use would contain, at the individual level, the patient's residence region, and the (vasculitis) onset date recorded."
   ]
  },
  {
   "cell_type": "code",
   "execution_count": 3,
   "metadata": {
    "ExecuteTime": {
     "end_time": "2021-01-21T10:32:33.870139Z",
     "start_time": "2021-01-21T10:32:33.849211Z"
    }
   },
   "outputs": [
    {
     "data": {
      "text/html": [
       "<style type=\"text/css\">\n",
       "</style>\n",
       "<table id=\"T_33db3\" class='dataframe table-hover'>\n",
       "  <thead>\n",
       "    <tr>\n",
       "      <th id=\"T_33db3_level0_col0\" class=\"col_heading level0 col0\" >Patient ID</th>\n",
       "      <th id=\"T_33db3_level0_col1\" class=\"col_heading level0 col1\" >Region</th>\n",
       "      <th id=\"T_33db3_level0_col2\" class=\"col_heading level0 col2\" >Onset Date</th>\n",
       "    </tr>\n",
       "  </thead>\n",
       "  <tbody>\n",
       "    <tr>\n",
       "      <td id=\"T_33db3_row0_col0\" class=\"data row0 col0\" >1</td>\n",
       "      <td id=\"T_33db3_row0_col1\" class=\"data row0 col1\" >B</td>\n",
       "      <td id=\"T_33db3_row0_col2\" class=\"data row0 col2\" >2021-01-03</td>\n",
       "    </tr>\n",
       "    <tr>\n",
       "      <td id=\"T_33db3_row1_col0\" class=\"data row1 col0\" >2</td>\n",
       "      <td id=\"T_33db3_row1_col1\" class=\"data row1 col1\" >B</td>\n",
       "      <td id=\"T_33db3_row1_col2\" class=\"data row1 col2\" >2021-01-05</td>\n",
       "    </tr>\n",
       "    <tr>\n",
       "      <td id=\"T_33db3_row2_col0\" class=\"data row2 col0\" >3</td>\n",
       "      <td id=\"T_33db3_row2_col1\" class=\"data row2 col1\" >B</td>\n",
       "      <td id=\"T_33db3_row2_col2\" class=\"data row2 col2\" >2021-01-03</td>\n",
       "    </tr>\n",
       "    <tr>\n",
       "      <td id=\"T_33db3_row3_col0\" class=\"data row3 col0\" >4</td>\n",
       "      <td id=\"T_33db3_row3_col1\" class=\"data row3 col1\" >A</td>\n",
       "      <td id=\"T_33db3_row3_col2\" class=\"data row3 col2\" >2021-01-03</td>\n",
       "    </tr>\n",
       "    <tr>\n",
       "      <td id=\"T_33db3_row4_col0\" class=\"data row4 col0\" >5</td>\n",
       "      <td id=\"T_33db3_row4_col1\" class=\"data row4 col1\" >A</td>\n",
       "      <td id=\"T_33db3_row4_col2\" class=\"data row4 col2\" >2021-01-02</td>\n",
       "    </tr>\n",
       "    <tr>\n",
       "      <td id=\"T_33db3_row5_col0\" class=\"data row5 col0\" >6</td>\n",
       "      <td id=\"T_33db3_row5_col1\" class=\"data row5 col1\" >B</td>\n",
       "      <td id=\"T_33db3_row5_col2\" class=\"data row5 col2\" >2021-01-03</td>\n",
       "    </tr>\n",
       "    <tr>\n",
       "      <td id=\"T_33db3_row6_col0\" class=\"data row6 col0\" >7</td>\n",
       "      <td id=\"T_33db3_row6_col1\" class=\"data row6 col1\" >A</td>\n",
       "      <td id=\"T_33db3_row6_col2\" class=\"data row6 col2\" >2021-01-02</td>\n",
       "    </tr>\n",
       "    <tr>\n",
       "      <td id=\"T_33db3_row7_col0\" class=\"data row7 col0\" >8</td>\n",
       "      <td id=\"T_33db3_row7_col1\" class=\"data row7 col1\" >A</td>\n",
       "      <td id=\"T_33db3_row7_col2\" class=\"data row7 col2\" >2021-01-03</td>\n",
       "    </tr>\n",
       "    <tr>\n",
       "      <td id=\"T_33db3_row8_col0\" class=\"data row8 col0\" >9</td>\n",
       "      <td id=\"T_33db3_row8_col1\" class=\"data row8 col1\" >B</td>\n",
       "      <td id=\"T_33db3_row8_col2\" class=\"data row8 col2\" >2021-01-03</td>\n",
       "    </tr>\n",
       "    <tr>\n",
       "      <td id=\"T_33db3_row9_col0\" class=\"data row9 col0\" >10</td>\n",
       "      <td id=\"T_33db3_row9_col1\" class=\"data row9 col1\" >A</td>\n",
       "      <td id=\"T_33db3_row9_col2\" class=\"data row9 col2\" >2021-01-02</td>\n",
       "    </tr>\n",
       "    <tr>\n",
       "      <td id=\"T_33db3_row10_col0\" class=\"data row10 col0\" >11</td>\n",
       "      <td id=\"T_33db3_row10_col1\" class=\"data row10 col1\" >B</td>\n",
       "      <td id=\"T_33db3_row10_col2\" class=\"data row10 col2\" >2021-01-02</td>\n",
       "    </tr>\n",
       "    <tr>\n",
       "      <td id=\"T_33db3_row11_col0\" class=\"data row11 col0\" >12</td>\n",
       "      <td id=\"T_33db3_row11_col1\" class=\"data row11 col1\" >A</td>\n",
       "      <td id=\"T_33db3_row11_col2\" class=\"data row11 col2\" >2021-01-01</td>\n",
       "    </tr>\n",
       "    <tr>\n",
       "      <td id=\"T_33db3_row12_col0\" class=\"data row12 col0\" >13</td>\n",
       "      <td id=\"T_33db3_row12_col1\" class=\"data row12 col1\" >A</td>\n",
       "      <td id=\"T_33db3_row12_col2\" class=\"data row12 col2\" >2021-01-02</td>\n",
       "    </tr>\n",
       "    <tr>\n",
       "      <td id=\"T_33db3_row13_col0\" class=\"data row13 col0\" >14</td>\n",
       "      <td id=\"T_33db3_row13_col1\" class=\"data row13 col1\" >B</td>\n",
       "      <td id=\"T_33db3_row13_col2\" class=\"data row13 col2\" >2021-01-01</td>\n",
       "    </tr>\n",
       "    <tr>\n",
       "      <td id=\"T_33db3_row14_col0\" class=\"data row14 col0\" >15</td>\n",
       "      <td id=\"T_33db3_row14_col1\" class=\"data row14 col1\" >B</td>\n",
       "      <td id=\"T_33db3_row14_col2\" class=\"data row14 col2\" >2021-01-01</td>\n",
       "    </tr>\n",
       "  </tbody>\n",
       "</table>\n"
      ],
      "text/plain": [
       "<pandas.io.formats.style.Styler at 0x103957c10>"
      ]
     },
     "execution_count": 3,
     "metadata": {},
     "output_type": "execute_result"
    }
   ],
   "source": [
    "#| code-fold: true\n",
    "\n",
    "healthcare_records = pd.DataFrame({\n",
    "    'Patient ID': range(1, 16),\n",
    "    'Region': np.random.choice(['A', 'B'], 15),\n",
    "    'Onset Date': np.random.choice(pd.date_range('2021-01-01', '2021-01-05'), 15)\n",
    "})\n",
    "\n",
    "# this is just for styling the table on the blog\n",
    "\n",
    "(healthcare_records\n",
    " .style\n",
    " .hide(axis='index')\n",
    " .format({'Onset Date': '{:%Y-%m-%d}'})\n",
    " .set_table_attributes(\"class='dataframe table-hover'\")\n",
    ")"
   ]
  },
  {
   "cell_type": "markdown",
   "metadata": {},
   "source": [
    "I then go from individual level record to population level records aggregating by date and region, such that the data table I use looks like the following:"
   ]
  },
  {
   "cell_type": "code",
   "execution_count": 4,
   "metadata": {
    "ExecuteTime": {
     "end_time": "2021-01-21T10:32:35.715531Z",
     "start_time": "2021-01-21T10:32:35.687522Z"
    }
   },
   "outputs": [
    {
     "data": {
      "text/html": [
       "<style type=\"text/css\">\n",
       "</style>\n",
       "<table id=\"T_a73e3\" class='dataframe table-hover'>\n",
       "  <thead>\n",
       "    <tr>\n",
       "      <th id=\"T_a73e3_level0_col0\" class=\"col_heading level0 col0\" >Date</th>\n",
       "      <th id=\"T_a73e3_level0_col1\" class=\"col_heading level0 col1\" >Region</th>\n",
       "      <th id=\"T_a73e3_level0_col2\" class=\"col_heading level0 col2\" >Cases</th>\n",
       "    </tr>\n",
       "  </thead>\n",
       "  <tbody>\n",
       "    <tr>\n",
       "      <td id=\"T_a73e3_row0_col0\" class=\"data row0 col0\" >2021-01-01</td>\n",
       "      <td id=\"T_a73e3_row0_col1\" class=\"data row0 col1\" >A</td>\n",
       "      <td id=\"T_a73e3_row0_col2\" class=\"data row0 col2\" >1</td>\n",
       "    </tr>\n",
       "    <tr>\n",
       "      <td id=\"T_a73e3_row1_col0\" class=\"data row1 col0\" >2021-01-01</td>\n",
       "      <td id=\"T_a73e3_row1_col1\" class=\"data row1 col1\" >B</td>\n",
       "      <td id=\"T_a73e3_row1_col2\" class=\"data row1 col2\" >2</td>\n",
       "    </tr>\n",
       "    <tr>\n",
       "      <td id=\"T_a73e3_row2_col0\" class=\"data row2 col0\" >2021-01-02</td>\n",
       "      <td id=\"T_a73e3_row2_col1\" class=\"data row2 col1\" >A</td>\n",
       "      <td id=\"T_a73e3_row2_col2\" class=\"data row2 col2\" >4</td>\n",
       "    </tr>\n",
       "    <tr>\n",
       "      <td id=\"T_a73e3_row3_col0\" class=\"data row3 col0\" >2021-01-02</td>\n",
       "      <td id=\"T_a73e3_row3_col1\" class=\"data row3 col1\" >B</td>\n",
       "      <td id=\"T_a73e3_row3_col2\" class=\"data row3 col2\" >1</td>\n",
       "    </tr>\n",
       "    <tr>\n",
       "      <td id=\"T_a73e3_row4_col0\" class=\"data row4 col0\" >2021-01-03</td>\n",
       "      <td id=\"T_a73e3_row4_col1\" class=\"data row4 col1\" >A</td>\n",
       "      <td id=\"T_a73e3_row4_col2\" class=\"data row4 col2\" >2</td>\n",
       "    </tr>\n",
       "    <tr>\n",
       "      <td id=\"T_a73e3_row5_col0\" class=\"data row5 col0\" >2021-01-03</td>\n",
       "      <td id=\"T_a73e3_row5_col1\" class=\"data row5 col1\" >B</td>\n",
       "      <td id=\"T_a73e3_row5_col2\" class=\"data row5 col2\" >4</td>\n",
       "    </tr>\n",
       "    <tr>\n",
       "      <td id=\"T_a73e3_row6_col0\" class=\"data row6 col0\" >2021-01-05</td>\n",
       "      <td id=\"T_a73e3_row6_col1\" class=\"data row6 col1\" >B</td>\n",
       "      <td id=\"T_a73e3_row6_col2\" class=\"data row6 col2\" >1</td>\n",
       "    </tr>\n",
       "  </tbody>\n",
       "</table>\n"
      ],
      "text/plain": [
       "<pandas.io.formats.style.Styler at 0x10f5b7760>"
      ]
     },
     "execution_count": 4,
     "metadata": {},
     "output_type": "execute_result"
    }
   ],
   "source": [
    "#| code-fold: true\n",
    "\n",
    "daily_cases = (healthcare_records\n",
    "               .groupby(['Onset Date', 'Region'])\n",
    "               .size()\n",
    "               .rename('Cases')\n",
    "               .astype(int)\n",
    "               .reset_index()\n",
    "               .rename(columns={'Onset Date': 'Date'})\n",
    ")\n",
    "\n",
    "# this is just for styling the table on the blog\n",
    "\n",
    "(daily_cases\n",
    " .style\n",
    " .hide(axis='index')\n",
    " .format({'Date': '{:%Y-%m-%d}'})\n",
    " .set_table_attributes(\"class='dataframe table-hover'\")\n",
    ")"
   ]
  },
  {
   "cell_type": "markdown",
   "metadata": {},
   "source": [
    "## Linkage"
   ]
  },
  {
   "attachments": {},
   "cell_type": "markdown",
   "metadata": {},
   "source": [
    "The final linkage, which leads us to the table on which most of the analyses will be made, is based on merging both the environmental and epidemiological daily incidence counts in a single table based on the `Date` and `Region` columns, such that:"
   ]
  },
  {
   "cell_type": "code",
   "execution_count": 5,
   "metadata": {
    "ExecuteTime": {
     "end_time": "2021-01-21T10:32:38.021508Z",
     "start_time": "2021-01-21T10:32:37.996168Z"
    }
   },
   "outputs": [
    {
     "data": {
      "text/html": [
       "<div>\n",
       "<style scoped>\n",
       "    .dataframe tbody tr th:only-of-type {\n",
       "        vertical-align: middle;\n",
       "    }\n",
       "\n",
       "    .dataframe tbody tr th {\n",
       "        vertical-align: top;\n",
       "    }\n",
       "\n",
       "    .dataframe thead th {\n",
       "        text-align: right;\n",
       "    }\n",
       "</style>\n",
       "<table border=\"1\" class=\"dataframe\">\n",
       "  <thead>\n",
       "    <tr style=\"text-align: right;\">\n",
       "      <th></th>\n",
       "      <th></th>\n",
       "      <th>Temperature</th>\n",
       "      <th>NO₂</th>\n",
       "      <th>Fungal Sp. 1</th>\n",
       "      <th>Bacterial Sp. 2</th>\n",
       "      <th>Cases</th>\n",
       "    </tr>\n",
       "    <tr>\n",
       "      <th>Region</th>\n",
       "      <th>Date</th>\n",
       "      <th></th>\n",
       "      <th></th>\n",
       "      <th></th>\n",
       "      <th></th>\n",
       "      <th></th>\n",
       "    </tr>\n",
       "  </thead>\n",
       "  <tbody>\n",
       "    <tr>\n",
       "      <th rowspan=\"5\" valign=\"top\">A</th>\n",
       "      <th>2021-01-01</th>\n",
       "      <td>15.31</td>\n",
       "      <td>5.12</td>\n",
       "      <td>981</td>\n",
       "      <td>758</td>\n",
       "      <td>1</td>\n",
       "    </tr>\n",
       "    <tr>\n",
       "      <th>2021-01-02</th>\n",
       "      <td>20.83</td>\n",
       "      <td>3.09</td>\n",
       "      <td>1086</td>\n",
       "      <td>782</td>\n",
       "      <td>4</td>\n",
       "    </tr>\n",
       "    <tr>\n",
       "      <th>2021-01-03</th>\n",
       "      <td>22.09</td>\n",
       "      <td>4.66</td>\n",
       "      <td>903</td>\n",
       "      <td>801</td>\n",
       "      <td>2</td>\n",
       "    </tr>\n",
       "    <tr>\n",
       "      <th>2021-01-04</th>\n",
       "      <td>25.52</td>\n",
       "      <td>4.47</td>\n",
       "      <td>823</td>\n",
       "      <td>716</td>\n",
       "      <td>0</td>\n",
       "    </tr>\n",
       "    <tr>\n",
       "      <th>2021-01-05</th>\n",
       "      <td>27.61</td>\n",
       "      <td>4.41</td>\n",
       "      <td>1059</td>\n",
       "      <td>763</td>\n",
       "      <td>0</td>\n",
       "    </tr>\n",
       "    <tr>\n",
       "      <th rowspan=\"5\" valign=\"top\">B</th>\n",
       "      <th>2021-01-01</th>\n",
       "      <td>20.98</td>\n",
       "      <td>5.58</td>\n",
       "      <td>1008</td>\n",
       "      <td>692</td>\n",
       "      <td>2</td>\n",
       "    </tr>\n",
       "    <tr>\n",
       "      <th>2021-01-02</th>\n",
       "      <td>18.13</td>\n",
       "      <td>4.02</td>\n",
       "      <td>1206</td>\n",
       "      <td>779</td>\n",
       "      <td>1</td>\n",
       "    </tr>\n",
       "    <tr>\n",
       "      <th>2021-01-03</th>\n",
       "      <td>17.26</td>\n",
       "      <td>5.11</td>\n",
       "      <td>879</td>\n",
       "      <td>748</td>\n",
       "      <td>4</td>\n",
       "    </tr>\n",
       "    <tr>\n",
       "      <th>2021-01-04</th>\n",
       "      <td>21.32</td>\n",
       "      <td>5.40</td>\n",
       "      <td>1124</td>\n",
       "      <td>882</td>\n",
       "      <td>0</td>\n",
       "    </tr>\n",
       "    <tr>\n",
       "      <th>2021-01-05</th>\n",
       "      <td>18.66</td>\n",
       "      <td>5.42</td>\n",
       "      <td>897</td>\n",
       "      <td>660</td>\n",
       "      <td>1</td>\n",
       "    </tr>\n",
       "  </tbody>\n",
       "</table>\n",
       "</div>"
      ],
      "text/plain": [
       "                   Temperature   NO₂  Fungal Sp. 1  Bacterial Sp. 2  Cases\n",
       "Region Date                                                               \n",
       "A      2021-01-01        15.31  5.12           981              758      1\n",
       "       2021-01-02        20.83  3.09          1086              782      4\n",
       "       2021-01-03        22.09  4.66           903              801      2\n",
       "       2021-01-04        25.52  4.47           823              716      0\n",
       "       2021-01-05        27.61  4.41          1059              763      0\n",
       "B      2021-01-01        20.98  5.58          1008              692      2\n",
       "       2021-01-02        18.13  4.02          1206              779      1\n",
       "       2021-01-03        17.26  5.11           879              748      4\n",
       "       2021-01-04        21.32  5.40          1124              882      0\n",
       "       2021-01-05        18.66  5.42           897              660      1"
      ]
     },
     "execution_count": 5,
     "metadata": {},
     "output_type": "execute_result"
    }
   ],
   "source": [
    "#| code-fold: true\n",
    "\n",
    "(environment_df\n",
    " .merge(daily_cases, on=['Date', 'Region'], how='left')\n",
    " .fillna(0)\n",
    " .assign(Cases=lambda df: df.Cases.astype(int))\n",
    " .sort_values(['Region', 'Date'])\n",
    " .set_index(['Region', 'Date'])\n",
    ")"
   ]
  }
 ],
 "metadata": {
  "kernelspec": {
   "display_name": "Python 3.10.6 ('base')",
   "language": "python",
   "name": "python3"
  },
  "language_info": {
   "codemirror_mode": {
    "name": "ipython",
    "version": 3
   },
   "file_extension": ".py",
   "mimetype": "text/x-python",
   "name": "python",
   "nbconvert_exporter": "python",
   "pygments_lexer": "ipython3",
   "version": "3.10.8"
  },
  "toc": {
   "base_numbering": 1,
   "nav_menu": {},
   "number_sections": true,
   "sideBar": true,
   "skip_h1_title": true,
   "title_cell": "Table of Contents",
   "title_sidebar": "Contents",
   "toc_cell": true,
   "toc_position": {},
   "toc_section_display": true,
   "toc_window_display": false
  },
  "vscode": {
   "interpreter": {
    "hash": "6df163025841fcf84f174c3f15c2f10b3bbd91e3842662d0b7a51a08fb760c26"
   }
  }
 },
 "nbformat": 4,
 "nbformat_minor": 4
}
